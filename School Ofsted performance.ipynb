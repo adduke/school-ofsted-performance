{
 "cells": [
  {
   "cell_type": "markdown",
   "id": "35ff4cf0",
   "metadata": {},
   "source": [
    "# School Ofsted Performance"
   ]
  },
  {
   "cell_type": "code",
   "execution_count": null,
   "id": "18020a5d",
   "metadata": {},
   "outputs": [],
   "source": [
    "import pandas as pd\n",
    "import numpy as np\n",
    "import seaborn as sns\n",
    "import matplotlib.pyplot as plt\n",
    "import os\n",
    "\n",
    "from sklearn.linear_model import LinearRegression\n",
    "from sklearn.model_selection import train_test_split\n",
    "from sklearn.metrics import r2_score\n"
   ]
  },
  {
   "cell_type": "markdown",
   "id": "1730fb9c",
   "metadata": {
    "tags": [],
    "toc-hr-collapsed": true
   },
   "source": [
    "## Section 1: Business Understanding"
   ]
  },
  {
   "cell_type": "markdown",
   "id": "d4b144c9",
   "metadata": {},
   "source": [
    "#### Brief Description:\n",
    "This section provides an overview of the project's goals and the specific questions it aims to answer about Ofsted ratings and school performance.\n",
    "\n",
    "###### Question 1: Which shool types have the highest Ofsted rating?\n",
    "\n",
    "###### Question 2: Which schools by gender enrolement have the highest Ofsted ratings?\n",
    "\n",
    "###### Question 3: Which schools by religious charter have the highest Ofsted ratings?\n",
    "\n",
    "###### Question 4: What is the average % of absense for schools that require improvement by Ofsted?\n",
    "\n",
    "#### Predicting Excellence: The Hidden Patterns in Ofsted Ratings\n",
    "This notebook will explore the hidden patterns in Ofsted ratings, focusing on key factors influencing ratings, characteristics of high-performing schools. Using data analysis and visualization techniques, we'll delve into the data to answer specific questions about school performance and Ofsted ratings. We evaluate the performance of machine learning models in predicting Ofsted ratings, to understand a concept of whether Ofsted success is deterministic.\n"
   ]
  },
  {
   "cell_type": "markdown",
   "id": "120985d8",
   "metadata": {},
   "source": [
    "### Gather Data\n",
    "Loading absense data, ofsted data and school population data (demographics) and their relevant data dictionaries\n"
   ]
  },
  {
   "cell_type": "code",
   "execution_count": null,
   "id": "61eda570",
   "metadata": {},
   "outputs": [],
   "source": [
    "def get_rawdata(filename):\n",
    "\n",
    "    \"\"\"\n",
    "    This function takes a filename as input and returns a pandas dataframe.\n",
    "\n",
    "    Parameters:\n",
    "    filename (string): The file name for the data.\n",
    "\n",
    "    Returns:\n",
    "    (pandas.DataFrame): The dataframe\n",
    "    \"\"\"\n",
    "\n",
    "    file_path = os.path.join(\n",
    "        '/Users/abiibrahim/Documents/2022-2023', filename)\n",
    "    return pd.read_csv(file_path)\n",
    "\n",
    "\n",
    "absence = get_rawdata('england_abs.csv').drop(\n",
    "    columns=['LA', 'ESTAB'])\n"
   ]
  },
  {
   "cell_type": "markdown",
   "id": "760ffe2b-50fa-452c-9eb3-c912d850f8da",
   "metadata": {},
   "source": [
    "Here I have removed all categorical columns with large numbers of unique values that would lead to nonsensical results in the ML model.\n",
    "They have been removed to avoid overfitting"
   ]
  },
  {
   "cell_type": "code",
   "execution_count": null,
   "id": "56792b2c",
   "metadata": {},
   "outputs": [],
   "source": [
    "ofsted = get_rawdata('england_school_information.csv').drop(\n",
    "    columns=['LANAME', 'LA', 'ESTAB', 'LAESTAB', 'SCHSTATUS', 'OPENDATE',\n",
    "             'SCHNAME', 'STREET', 'LOCALITY', 'ADDRESS3',\n",
    "             'TOWN', 'POSTCODE', 'OFSTEDLASTINSP',\n",
    "             'ISPRIMARY', 'ISSECONDARY', 'ISPOST16', 'AGELOW',\n",
    "             'AGEHIGH',  'CLOSEDATE', 'OFSTEDLASTINSP'])\n"
   ]
  },
  {
   "cell_type": "code",
   "execution_count": null,
   "id": "9dee72c3",
   "metadata": {},
   "outputs": [],
   "source": [
    "demographics = get_rawdata('2022-2023_england_census.csv')\n"
   ]
  },
  {
   "cell_type": "code",
   "execution_count": null,
   "id": "528b8a1f",
   "metadata": {},
   "outputs": [],
   "source": [
    "def get_dictionary(filename):\n",
    "    \n",
    "    \"\"\"\n",
    "    This function takes a filename as input and returns a pandas dataframe.\n",
    "    Used specifically for dictionaries \n",
    "    \n",
    "    Parameters:\n",
    "    filename (string): The file name for the data.\n",
    "\n",
    "    Returns:\n",
    "    (pandas.DataFrame): The dataframe\n",
    "    \"\"\"\n",
    "\n",
    "    file_path = os.path.join(\n",
    "        '/Users/abiibrahim/Documents/2022-2023 Data dictionary',\n",
    "        filename)\n",
    "    return pd.read_csv(file_path, index_col=False)\n"
   ]
  },
  {
   "cell_type": "code",
   "execution_count": null,
   "id": "8e5315cb-6a96-4e52-a5e3-865043ae86d6",
   "metadata": {},
   "outputs": [],
   "source": [
    "schema_absence = get_dictionary('abs_meta.csv')\n",
    "schema_ofsted = get_dictionary('school_information_meta.csv')\n",
    "schema_demographics = get_dictionary('2022-2023_census_meta.csv')\n"
   ]
  },
  {
   "cell_type": "code",
   "execution_count": null,
   "id": "f9252a08-1eb7-454b-a584-c0cec8aa9019",
   "metadata": {},
   "outputs": [],
   "source": [
    "schema_absence.rename(columns={\n",
    "    'Variable':'Field Name',\n",
    "    'Label':'Description'}, inplace=True)\n"
   ]
  },
  {
   "cell_type": "code",
   "execution_count": null,
   "id": "4408f5a2-e1d3-418c-8791-90dcfcac7d77",
   "metadata": {},
   "outputs": [],
   "source": [
    "schema_demographics.rename(columns={'Field Reference':'Field Name',\n",
    "                                    'Field Name':'Description'}, inplace=True)\n"
   ]
  },
  {
   "cell_type": "code",
   "execution_count": null,
   "id": "84b982fb-16cf-4c21-aaba-53c2228e8264",
   "metadata": {},
   "outputs": [],
   "source": [
    "schema_absence = schema_absence.set_index('Field Name')\n",
    "schema_ofsted = schema_ofsted.set_index('Field Name')\n",
    "schema_demographics = schema_demographics.set_index('Field Name')\n"
   ]
  },
  {
   "cell_type": "markdown",
   "id": "27bc7085-1ec7-4d8e-9fa3-1d3539c46865",
   "metadata": {},
   "source": [
    "## Section 2: Data Understanding"
   ]
  },
  {
   "cell_type": "markdown",
   "id": "329a8e85-4119-4b6c-a095-68781a284df8",
   "metadata": {},
   "source": [
    "## Data Exploration\n",
    "Let's start by exploring the dataset to understand its structure and main characteristics.\n",
    "\n",
    "### Basic Information\n",
    "We will check the dataset's basic information, such as the number of entries, column names, and data types.\n"
   ]
  },
  {
   "cell_type": "markdown",
   "id": "21b53706-614a-40c6-9a31-3ffffd5a2110",
   "metadata": {},
   "source": [
    "First, let's examine the basic structure of the dataset, including the number of entries, column names, and data types. This information will give us a preliminary understanding of what the data looks like.\n"
   ]
  },
  {
   "cell_type": "markdown",
   "id": "7b695bd8",
   "metadata": {},
   "source": [
    "### Assess Data"
   ]
  },
  {
   "cell_type": "code",
   "execution_count": null,
   "id": "b1172067",
   "metadata": {},
   "outputs": [],
   "source": [
    "schema_absence\n"
   ]
  },
  {
   "cell_type": "code",
   "execution_count": null,
   "id": "4c6359bd",
   "metadata": {},
   "outputs": [],
   "source": [
    "schema_ofsted\n"
   ]
  },
  {
   "cell_type": "code",
   "execution_count": null,
   "id": "e4b38aae",
   "metadata": {},
   "outputs": [],
   "source": [
    "schema_demographics\n"
   ]
  },
  {
   "cell_type": "markdown",
   "id": "b1b004b0",
   "metadata": {},
   "source": [
    "### Clean and join data"
   ]
  },
  {
   "cell_type": "code",
   "execution_count": null,
   "id": "ab284ad7",
   "metadata": {},
   "outputs": [],
   "source": [
    "# Here I have dropped identifier columns to prevent overfitting\n",
    "demographics.drop(columns=['LA', 'Estab'])\n"
   ]
  },
  {
   "cell_type": "markdown",
   "id": "713548d8-68f2-456d-91be-e23edcfe6215",
   "metadata": {},
   "source": [
    "The shape of each of the columns we hope to aggregate"
   ]
  },
  {
   "cell_type": "code",
   "execution_count": null,
   "id": "56207879",
   "metadata": {},
   "outputs": [],
   "source": [
    "print(absence.shape, ofsted.shape, demographics.shape)"
   ]
  },
  {
   "cell_type": "markdown",
   "id": "28bafef0-aff5-4926-8351-3e852e62358e",
   "metadata": {},
   "source": [
    "Here I have dropped duplicate rows with the same unique identifier (URN)\n",
    "URN is the primary key in this data for each school that is investigated"
   ]
  },
  {
   "cell_type": "code",
   "execution_count": null,
   "id": "4da81ce9",
   "metadata": {},
   "outputs": [],
   "source": [
    "def global_clean(df):\n",
    "\n",
    "    \"\"\"\n",
    "    This function takes a dataframe as input and returns a non duplicate.\n",
    "\n",
    "    Parameters:\n",
    "    df (pandas.DataFrame): The dataframe.\n",
    "\n",
    "    Returns:\n",
    "    df_clean (pandas.DataFrame): The dataframe with duplicates checked\n",
    "    and removed.\n",
    "    \"\"\"\n",
    "\n",
    "    print(f'{df.duplicated().sum()} duplicates found by row,' +\n",
    "          f'however we have {df.URN.duplicated().sum()} duplicates of URNs.')\n",
    "    df = df.drop_duplicates(subset = ['URN'])\n",
    "    df_clean = df.set_index('URN')\n",
    "    return df_clean\n"
   ]
  },
  {
   "cell_type": "markdown",
   "id": "7a159b08-f209-4d7a-ac56-ec40f18c46ee",
   "metadata": {},
   "source": [
    "Now I can check the number of duplicates of URNs for each dataframe"
   ]
  },
  {
   "cell_type": "code",
   "execution_count": null,
   "id": "49d19171-27bd-4f54-9342-d978d60d364d",
   "metadata": {},
   "outputs": [],
   "source": [
    "global_clean(absence)\n",
    "global_clean(ofsted)\n",
    "global_clean(demographics)\n"
   ]
  },
  {
   "cell_type": "markdown",
   "id": "62ee9229-7145-4616-922a-72dfef2992c6",
   "metadata": {},
   "source": [
    "I want to create a main dataframe to use for analysis and modelling, hence I am joining them based on their URNs"
   ]
  },
  {
   "cell_type": "code",
   "execution_count": null,
   "id": "06b06051",
   "metadata": {},
   "outputs": [],
   "source": [
    "df = global_clean(absence).join(global_clean(ofsted), lsuffix='left')\n",
    "\n",
    "df = df.join(global_clean(demographics), rsuffix='right')\n"
   ]
  },
  {
   "cell_type": "markdown",
   "id": "97b0ef97-7072-45dc-8ae4-9839983742e5",
   "metadata": {},
   "source": [
    "Let's check the joined table looks as expected with URN as an index column, and the shape is correct."
   ]
  },
  {
   "cell_type": "code",
   "execution_count": null,
   "id": "e4ac1f62-49b7-4060-bbad-bc1fd3f2efc9",
   "metadata": {},
   "outputs": [],
   "source": [
    "df.head()\n"
   ]
  },
  {
   "cell_type": "markdown",
   "id": "788fadfb",
   "metadata": {},
   "source": [
    "### Assess main datafram"
   ]
  },
  {
   "cell_type": "markdown",
   "id": "2432b959-ab4d-48e5-85ea-23351645d161",
   "metadata": {},
   "source": [
    "Display summary statistics and datatypes"
   ]
  },
  {
   "cell_type": "code",
   "execution_count": null,
   "id": "6612304d",
   "metadata": {},
   "outputs": [],
   "source": [
    "df.info()\n"
   ]
  },
  {
   "cell_type": "markdown",
   "id": "b51d151b-6000-4f87-8ab4-57d88793bd38",
   "metadata": {},
   "source": [
    "The datatypes produced are as expected. \n",
    "Now let's check summary statistics"
   ]
  },
  {
   "cell_type": "code",
   "execution_count": null,
   "id": "91e7e92b",
   "metadata": {},
   "outputs": [],
   "source": [
    "df.describe()\n"
   ]
  },
  {
   "cell_type": "markdown",
   "id": "3b63b7d5-cdd9-4372-b344-2e328395efef",
   "metadata": {},
   "source": [
    "As 'PERCTOT' and 'PPERSABS10' are both percentages the maximum is as expected which is <= 100.\n",
    "There is an average absense of 6.8% aswell"
   ]
  },
  {
   "cell_type": "code",
   "execution_count": null,
   "id": "5595bcb4-ac4c-44cf-aaa4-ee1c884b473f",
   "metadata": {},
   "outputs": [],
   "source": [
    "num_rows = df.shape[0] # Provide the number of rows in the dataset\n",
    "num_cols = df.shape[1] # Provide the number of columns in the dataset\n",
    "\n",
    "print(num_rows, num_cols)"
   ]
  },
  {
   "cell_type": "markdown",
   "id": "67d707c4-1964-428c-8ce3-aa46b4a9eb35",
   "metadata": {},
   "source": [
    "The number of rows and columns in this dataset are as expected"
   ]
  },
  {
   "cell_type": "markdown",
   "id": "d6d22531-84be-455e-b078-ca04236d20a5",
   "metadata": {},
   "source": [
    "Which columns had no missing values? Here is a set of column names that have no missing values."
   ]
  },
  {
   "cell_type": "code",
   "execution_count": null,
   "id": "4744ebb4-2a19-4dd9-b698-d055cf9f3708",
   "metadata": {},
   "outputs": [],
   "source": [
    "no_nulls = set(df.columns[df.isnull().mean()==0]) \n",
    "# Provides a set of columns with 0 missing values.\n",
    "no_nulls"
   ]
  },
  {
   "cell_type": "markdown",
   "id": "127d51d4-c47d-490a-b8fd-2261173c0040",
   "metadata": {},
   "source": [
    "Only absense data has been completely reported by .gov/uk"
   ]
  },
  {
   "cell_type": "markdown",
   "id": "91734a14-10d4-473b-9588-b01cc412e315",
   "metadata": {},
   "source": [
    "Which columns have the most missing values? Here is a set of column name that have more than 75% if their values missing."
   ]
  },
  {
   "cell_type": "code",
   "execution_count": null,
   "id": "4e35ef5d-3355-4e73-a0b8-f69f2ebd91ac",
   "metadata": {},
   "outputs": [],
   "source": [
    "most_missing_cols = set(df.columns[df.isnull().mean() > 0.75]) \n",
    "#Provide a set of columns with more than 75% of the values missing\n",
    "most_missing_cols"
   ]
  },
  {
   "cell_type": "markdown",
   "id": "dd198aec-21ed-479b-8b18-1c6cbc9a4428",
   "metadata": {},
   "source": [
    "Which columns have the most missing values? Here is a set of column name that have all values missing."
   ]
  },
  {
   "cell_type": "code",
   "execution_count": null,
   "id": "65c4eef4-4bfe-4121-9d31-f30b6e55b37c",
   "metadata": {},
   "outputs": [],
   "source": [
    "most_missing_cols = set(df.columns[df.isnull().mean()==1])\n",
    "#Provide a set of columns with more than 75% of the values missing\n",
    "most_missing_cols"
   ]
  },
  {
   "cell_type": "markdown",
   "id": "8e92d8c2-db3c-4b01-ba19-34ccef39927f",
   "metadata": {},
   "source": [
    "It is the same columns, which are completely missing. All these columns will be dropped in Data Preperation"
   ]
  },
  {
   "cell_type": "markdown",
   "id": "04727015-15d4-4e9f-ac9e-9aaa93f11c71",
   "metadata": {},
   "source": [
    "This is later used in section 5 to give visualisations."
   ]
  },
  {
   "cell_type": "code",
   "execution_count": null,
   "id": "695f6e8f",
   "metadata": {},
   "outputs": [],
   "source": [
    "def categorical_plot(cat_column):\n",
    "\n",
    "    \"\"\"\n",
    "    This function allows us to quickly plot categorical data\n",
    "    against the Ofsted rating\n",
    "\n",
    "    Parameters:\n",
    "    cat_column (string): A categorical column.\n",
    "\n",
    "    Returns:\n",
    "    plot (): A horizontal bar plot\n",
    "    \"\"\"\n",
    "\n",
    "    # Grouping by 'OFSTEDRATING' and counting 'SCHOOLTYPE'\n",
    "    grouped_data = df.groupby(\n",
    "        'OFSTEDRATING')[cat_column].value_counts(\n",
    "        ).unstack().fillna(0)\n",
    "\n",
    "    # Standardize by the total number of each school type\n",
    "    total_counts = df[cat_column].value_counts()\n",
    "    normalized_data = grouped_data.div(total_counts, axis=1)\n",
    "\n",
    "    # Plotting the bar plot\n",
    "    normalized_data.plot(kind='barh', stacked=True, figsize=(10, 6))\n",
    "    plt.title(f'Proportion of {cat_column} by Ofsted Rating')\n",
    "    plt.xlabel('Ofsted Rating')\n",
    "    plt.ylabel('Proportion of Schools')\n",
    "    plt.legend(title=f'{cat_column}')\n",
    "    plt.show()\n"
   ]
  },
  {
   "cell_type": "markdown",
   "id": "69cd60f2-3da2-40a0-97fc-9f76fd0a8193",
   "metadata": {},
   "source": [
    "This also filters the data if the categorical list is too long to the top 10 values"
   ]
  },
  {
   "cell_type": "code",
   "execution_count": null,
   "id": "fdd7b9b7-a1b1-437b-a38b-c5ba6533afff",
   "metadata": {},
   "outputs": [],
   "source": [
    "def categorical_plot_filtered(cat_column, df):\n",
    "    \"\"\"\n",
    "    This function allows us to quickly plot categorical\n",
    "    data against the Ofsted rating.\n",
    "\n",
    "    Parameters:\n",
    "    cat_column (string): A categorical column name in the dataframe `df`.\n",
    "    df (DataFrame): The dataframe containing the data.\n",
    "\n",
    "    Returns:\n",
    "    plot (): A horizontal bar plot\n",
    "    \"\"\"\n",
    "\n",
    "    # Grouping by 'OFSTEDRATING' and counting 'cat_column'\n",
    "    grouped_data = df.groupby(\n",
    "        'OFSTEDRATING')[cat_column].value_counts().unstack().fillna(0)\n",
    "\n",
    "    # Standardize by the total number of each category in 'cat_column'\n",
    "    total_counts = df[cat_column].value_counts()\n",
    "    normalized_data = grouped_data.div(total_counts, axis=1)\n",
    "\n",
    "    # Get top 10 categories in 'cat_column' by total count\n",
    "    top_categories = total_counts.nlargest(10).index\n",
    "\n",
    "    # Filter to include only top 10 categories in 'cat_column'\n",
    "    filtered_grouped_df = normalized_data[top_categories]\n",
    "\n",
    "    # Plotting the bar plot\n",
    "    filtered_grouped_df.plot(kind='barh', stacked=True, figsize=(10, 6))\n",
    "\n",
    "    plt.title(f'Proportion of {cat_column} by Ofsted Rating')\n",
    "    plt.xlabel('Proportion of Schools')\n",
    "    plt.ylabel('Ofsted Rating')\n",
    "    plt.legend(title=f'{cat_column}')\n",
    "    plt.show()\n"
   ]
  },
  {
   "cell_type": "markdown",
   "id": "4c3cd7b4-4cb9-4b1c-9559-c4e20a2f34eb",
   "metadata": {},
   "source": [
    "Display description for columns if you need to execute a quick Vlookup"
   ]
  },
  {
   "cell_type": "code",
   "execution_count": null,
   "id": "f4064979",
   "metadata": {},
   "outputs": [],
   "source": [
    "def get_description(column_name, schema):\n",
    "\n",
    "    \"\"\"\n",
    "    This function allows us to lookup the description of column variables\n",
    "\n",
    "    Parameters:\n",
    "    column_name (string): The column.\n",
    "    schema (pandas.DataFrame): The data dictionary\n",
    "\n",
    "    Returns:\n",
    "    (string): The description from the schema.\n",
    "    \"\"\"\n",
    "\n",
    "    return schema.loc(\n",
    "        [schema['Field Name'] == column_name,'Description'].values[0])\n",
    "\n",
    "\n",
    "search_list = [col for col in df.columns if 'ofsted' in col]\n",
    "for col in search_list:\n",
    "    print(get_description(col, schema_ofsted))\n",
    "    "
   ]
  },
  {
   "cell_type": "markdown",
   "id": "025157fb",
   "metadata": {},
   "source": [
    "## Section 3: Data Preperation"
   ]
  },
  {
   "cell_type": "markdown",
   "id": "c9ca1c07-125c-4724-96cd-555526fe382d",
   "metadata": {},
   "source": [
    "Drop rows where target value is empty as that would cause errors with modelling.\n",
    "Proper handling ensures the integrity of the dataset.\n",
    "\n",
    "Preprocessing is a critical step in any machine learning project. It involves cleaning and transforming the raw data into a suitable format for modeling. This section covers various preprocessing techniques tailored to our dataset."
   ]
  },
  {
   "cell_type": "code",
   "execution_count": null,
   "id": "329947b8",
   "metadata": {},
   "outputs": [],
   "source": [
    "# Dropped entirely empty rows\n",
    "df = df.dropna(how='all')\n",
    "# Drop entirely empty columns\n",
    "df = df.dropna(how='all', axis=1)\n",
    "\n",
    "# Target Column - Ofsted rating\n",
    "df = df.dropna(subset=['OFSTEDRATING'])\n",
    "print(df.shape)\n"
   ]
  },
  {
   "cell_type": "markdown",
   "id": "d1874bcb-1fb9-481b-b68a-c5a428e8ae82",
   "metadata": {},
   "source": [
    "QUICK GLANCE Target Column - Ofsted rating"
   ]
  },
  {
   "cell_type": "code",
   "execution_count": null,
   "id": "25300165",
   "metadata": {},
   "outputs": [],
   "source": [
    "df.groupby('MINORGROUP')['OFSTEDRATING'].value_counts()\n",
    "df['OFSTEDRATING'].value_counts()\n"
   ]
  },
  {
   "cell_type": "markdown",
   "id": "bbc7dbf1-aa6b-46cc-9d67-28fa9cd7e75e",
   "metadata": {},
   "source": [
    "Ofsted usually works in 4 system tiered rating, so lets add this to the data frame\n"
   ]
  },
  {
   "cell_type": "code",
   "execution_count": null,
   "id": "ae08ee8e",
   "metadata": {},
   "outputs": [],
   "source": [
    "# Adding tiered rating to data frame\n",
    "def ofsted_tier(rating):\n",
    "    \"\"\"\n",
    "    This function returns the 4-tiered rating of\n",
    "    Ofsted scores.\n",
    "\n",
    "    Parameters:\n",
    "    rating (string): Rating column.\n",
    "\n",
    "    Returns:\n",
    "    output (string): The rating measured by the 4-tier\n",
    "    scale\n",
    "    \"\"\"\n",
    "\n",
    "    if rating == 'Outstanding':\n",
    "        output = 1\n",
    "    elif rating == 'Good':\n",
    "        output = 2\n",
    "    elif rating == 'Requires improvement':\n",
    "        output = 3\n",
    "    else:\n",
    "        output = 4\n",
    "    return output\n",
    "\n",
    "\n",
    "df['OFSTEDGRADE'] = df['OFSTEDRATING'].apply(\n",
    "    lambda x: ofsted_tier(x))\n"
   ]
  },
  {
   "cell_type": "markdown",
   "id": "ae595f0b-d255-4665-ac77-5b6c40eeab7a",
   "metadata": {},
   "source": [
    "Creating categorical and numeric columns to isolate how we deal with null values"
   ]
  },
  {
   "cell_type": "code",
   "execution_count": null,
   "id": "914c6319",
   "metadata": {},
   "outputs": [],
   "source": [
    "numer_cols = df.select_dtypes(['int64', 'float64'])\n",
    "\n",
    "cat_cols = df.select_dtypes(['object'])\n",
    "\n",
    "print(numer_cols.shape, cat_cols.shape)\n"
   ]
  },
  {
   "cell_type": "code",
   "execution_count": null,
   "id": "2c833f81",
   "metadata": {
    "tags": []
   },
   "outputs": [],
   "source": [
    "# Make a scatter matrix of numeric columns\n",
    "pd.plotting.scatter_matrix(numer_cols, figsize=(15, 10), alpha=0.5)\n",
    "plt.show()\n"
   ]
  },
  {
   "cell_type": "code",
   "execution_count": null,
   "id": "851f0e1c",
   "metadata": {},
   "outputs": [],
   "source": [
    "# No null values found in numeric columns\n",
    "num_finder = pd.DataFrame(numer_cols.isnull().sum()).reset_index()\n",
    "num_finder\n"
   ]
  },
  {
   "cell_type": "code",
   "execution_count": null,
   "id": "5931efe9",
   "metadata": {},
   "outputs": [],
   "source": [
    "cat_finder = pd.DataFrame(cat_cols.isnull().sum()).reset_index()\n",
    "cat_finder\n"
   ]
  },
  {
   "cell_type": "markdown",
   "id": "21d78b86-93a3-454b-8051-070527616f15",
   "metadata": {},
   "source": [
    "### Missing value analysis\n",
    "Analysing which null features to keep in our categorical dataset\n",
    "This search list shows all categorical columns with null values that could potentially be imputed\n",
    "\n",
    "However, chose not to impute these values and kept the null column once the data was unpivoted using getdummies\n",
    "\n",
    "It is appropriate to keep all nulls related to 'RELCHAR' 'ADMPOL' as the number of nulls are too high to remove, none cause a weakness in the model by keeping them\n",
    "\n",
    "\n",
    "**Note no imputation was needed."
   ]
  },
  {
   "cell_type": "code",
   "execution_count": null,
   "id": "8c2df0c6",
   "metadata": {},
   "outputs": [],
   "source": [
    "search_list = cat_finder.loc[cat_finder[0] != 0, 'index'].values\n",
    "print(search_list)\n"
   ]
  },
  {
   "cell_type": "code",
   "execution_count": null,
   "id": "58fab1c8",
   "metadata": {},
   "outputs": [],
   "source": [
    "def get_description(column_name, schema):\n",
    "\n",
    "    \"\"\"\n",
    "    This function allows us to lookup the description of column variables\n",
    "\n",
    "    Parameters:\n",
    "    column_name (string): The column.\n",
    "    schema (pandas.DataFrame): The data dictionary\n",
    "\n",
    "    Returns:\n",
    "    desc (string): The description from the schema.\n",
    "    \"\"\"\n",
    "\n",
    "    return schema.loc[schema['Field Name'] == column_name,\n",
    "                             'Description'].values[0]\n",
    "\n",
    "\n",
    "search_list = [col for col in df.columns if 'ofsted' in col]\n",
    "for col in search_list:\n",
    "    print(get_description(col, schema_ofsted))"
   ]
  },
  {
   "cell_type": "markdown",
   "id": "412544ed-b131-4502-8be6-81be602b0daa",
   "metadata": {},
   "source": [
    "None of these information requires nulls to be removed, they may still be useful in modelling.\n",
    "\n",
    "Therefore, missing values are also handled appropriately for both descriptive and ML techniques."
   ]
  },
  {
   "cell_type": "markdown",
   "id": "d3f56df7-fefa-496d-9aa2-5534bad45ff4",
   "metadata": {},
   "source": [
    "Leave drop_first to true to avoid\n",
    "Multicollinearity which gives nonsensical R2 values."
   ]
  },
  {
   "cell_type": "code",
   "execution_count": null,
   "id": "a7a1d15c",
   "metadata": {},
   "outputs": [],
   "source": [
    "# Create dummies for cat_cols\n",
    "dummy_df = pd.get_dummies(cat_cols, prefix_sep='_',\n",
    "                          dummy_na=True, drop_first=True)\n"
   ]
  },
  {
   "cell_type": "code",
   "execution_count": null,
   "id": "ae25addc",
   "metadata": {
    "tags": []
   },
   "outputs": [],
   "source": [
    "df_clean = dummy_df.join(numer_cols, how='outer').reset_index()\n",
    "df_clean.head()\n"
   ]
  },
  {
   "cell_type": "markdown",
   "id": "ae0b4478-8d55-4a09-bc75-def60bf40cbc",
   "metadata": {},
   "source": [
    "Let's check that we have removed al objects before we begin modeling"
   ]
  },
  {
   "cell_type": "code",
   "execution_count": null,
   "id": "aa4fb9b3",
   "metadata": {},
   "outputs": [],
   "source": [
    "df_clean.dtypes.value_counts()\n"
   ]
  },
  {
   "cell_type": "code",
   "execution_count": null,
   "id": "56d8a33d",
   "metadata": {},
   "outputs": [],
   "source": [
    "# Check for potential target columns for binary classification\n",
    "[col for col in df_clean.columns if 'OFSTEDRATING' in col]\n"
   ]
  },
  {
   "cell_type": "markdown",
   "id": "f7065828-2453-44f0-baeb-c4d140ad961d",
   "metadata": {
    "tags": [],
    "toc-hr-collapsed": true
   },
   "source": [
    "## Section 4: Data Modelling"
   ]
  },
  {
   "cell_type": "markdown",
   "id": "d8233e7f-e8e8-4de1-816f-40c59daa2aa1",
   "metadata": {},
   "source": [
    "### Initialising Model"
   ]
  },
  {
   "cell_type": "raw",
   "id": "cafa13c7-4e45-493b-8432-96f1aacad7a4",
   "metadata": {},
   "source": [
    "df with only  'OFSTEDRATING_Special Measures'\n",
    "dropped all other OFSTED columns as we will be\n",
    "looking into creating a binary classification model\n",
    "The target column will be OFSTEDRATING_Special Measures"
   ]
  },
  {
   "cell_type": "code",
   "execution_count": null,
   "id": "f58743df",
   "metadata": {},
   "outputs": [],
   "source": [
    "# Model training\n",
    "df_clean1 = df_clean.drop(columns=['URN',\n",
    "                                   'OFSTEDRATING_Outstanding',\n",
    "                                   'OFSTEDRATING_Requires improvement',\n",
    "                                   'OFSTEDRATING_Special Measures',\n",
    "                                   'OFSTEDRATING_nan',\n",
    "                                   'OFSTEDGRADE']).copy()\n",
    "\n",
    "target_column = 'OFSTEDRATING_Serious Weaknesses'\n",
    "\n",
    "X = df_clean1.drop(columns=[target_column]).copy()\n",
    "y = df_clean1[target_column]\n",
    "\n",
    "X_train, X_test, y_train, y_test = train_test_split(\n",
    "    X, y, random_state=42, test_size=0.3)\n",
    "\n",
    "lr = LinearRegression(\n",
    "    fit_intercept=True,\n",
    "    copy_X=True,\n",
    "    n_jobs=None,\n",
    "    positive=False)\n",
    "\n",
    "lr.fit(X_train, y_train)\n",
    "\n",
    "y_pred = lr.predict(X_test)\n"
   ]
  },
  {
   "cell_type": "markdown",
   "id": "f14bd764-310c-4f87-8a37-7e45826713bf",
   "metadata": {},
   "source": [
    "### Model Performance"
   ]
  },
  {
   "cell_type": "code",
   "execution_count": null,
   "id": "f3f0e739",
   "metadata": {},
   "outputs": [],
   "source": [
    "# Model evaluation\n",
    "r2 = (r2_score(y_test, y_pred))\n",
    "print(\"R^2 score:\", r2)"
   ]
  },
  {
   "cell_type": "markdown",
   "id": "b339e622-5943-4556-8858-f84f832ed0bd",
   "metadata": {},
   "source": [
    "The performance is nonsensical using linear regression, so now we try randomforest"
   ]
  },
  {
   "cell_type": "code",
   "execution_count": null,
   "id": "cdc5eb60",
   "metadata": {},
   "outputs": [],
   "source": [
    "from sklearn.ensemble import RandomForestRegressor\n",
    "\n",
    "# Train-test split\n",
    "X_train, X_test, y_train, y_test = train_test_split(\n",
    "    X, y, test_size=0.3, random_state=42)\n",
    "\n",
    "# Fit Random Forest model\n",
    "rf_model = RandomForestRegressor(n_estimators=20)\n",
    "\n",
    "rf_model.fit(X_train, y_train)\n",
    "\n",
    "# Predict and evaluate\n",
    "y_pred_rf = rf_model.predict(X_test)\n",
    "print(\"R^2 score:\", r2_score(y_test, y_pred_rf))\n"
   ]
  },
  {
   "cell_type": "markdown",
   "id": "ed4a49e8-f224-453f-8144-0d7756b865e3",
   "metadata": {},
   "source": [
    "More reasonable scores, however still a weak performance"
   ]
  },
  {
   "cell_type": "markdown",
   "id": "7dddf135-37d9-4c85-9799-692cc3acaf70",
   "metadata": {
    "tags": [],
    "toc-hr-collapsed": true
   },
   "source": [
    "## Section 5: Evaluate the Results"
   ]
  },
  {
   "cell_type": "markdown",
   "id": "92a1130e-4042-4dcc-a74a-9654eaa0efc1",
   "metadata": {},
   "source": [
    "#### 1) Which shool types have the highest Ofsted rating?"
   ]
  },
  {
   "cell_type": "code",
   "execution_count": null,
   "id": "35879fbb-afdf-491d-926f-336476ed453f",
   "metadata": {},
   "outputs": [],
   "source": [
    "categorical_plot('ADMPOL')\n"
   ]
  },
  {
   "cell_type": "code",
   "execution_count": null,
   "id": "52070dd8-34da-4c7d-b501-bcf0d67de771",
   "metadata": {},
   "outputs": [],
   "source": [
    "categorical_plot_filtered('SCHOOLTYPE',df)\n"
   ]
  },
  {
   "cell_type": "markdown",
   "id": "fc10333a-afac-4f0e-8e44-7ef11a4b42f9",
   "metadata": {},
   "source": [
    "From this evaluation, Selective schools are awarded substantially more Outstanding scores for their Ofsted reports. \n",
    "Likewise non-selective schools are more likely to be scored as a serious weakness.\n",
    "\n",
    "Academy special converter schools and Community special schools perform well in Ofsted inspections. "
   ]
  },
  {
   "cell_type": "code",
   "execution_count": null,
   "id": "96dd9f18-8fde-4257-9fcb-f63245c9866a",
   "metadata": {
    "tags": []
   },
   "outputs": [],
   "source": [
    "# Taking a closer look into those schools under grade 4 rating\n",
    "categorical_plot_filtered('SCHOOLTYPE',df.loc[df['OFSTEDGRADE'] == 4])\n"
   ]
  },
  {
   "cell_type": "markdown",
   "id": "4839fafe-bc25-44c4-9843-bec9592fe718",
   "metadata": {},
   "source": [
    "Free schools and Academy converters on average perform worse in Ofsted inspections."
   ]
  },
  {
   "cell_type": "markdown",
   "id": "d558cb7b-2b25-45f7-819e-846f38ed38cc",
   "metadata": {},
   "source": [
    "#### 2) Which schools by gender enrolment have the highest Ofsted ratings?\n"
   ]
  },
  {
   "cell_type": "code",
   "execution_count": null,
   "id": "b1d91c21-aa58-4b28-a5f8-68b125b689e6",
   "metadata": {},
   "outputs": [],
   "source": [
    "categorical_plot('GENDER')"
   ]
  },
  {
   "cell_type": "markdown",
   "id": "c7232b4b-07bd-4254-b498-7eab23c183c3",
   "metadata": {},
   "source": [
    "From here we can understand all girls schools outperform all-boys schools.\n",
    "Additionally single gender schools perform better getting either an 'Outstanding' or 'Good' report from Ofsted compared to mixed-gender schools. Potentially absences could also explain the differences in scores. Suprisingly, mixed schools have lower absences."
   ]
  },
  {
   "cell_type": "code",
   "execution_count": null,
   "id": "e3796ebe-dbc8-4968-b418-2b62b62cf488",
   "metadata": {},
   "outputs": [],
   "source": [
    "df.groupby('GENDER')['PERCTOT'].mean()\n"
   ]
  },
  {
   "cell_type": "markdown",
   "id": "8941ef7e-1294-448e-812e-14ce4b77136c",
   "metadata": {},
   "source": [
    "Here we can evaluate the percentage of school-tyoes with persistent absenteeism > 10% for each student."
   ]
  },
  {
   "cell_type": "code",
   "execution_count": null,
   "id": "14a96907-e9f7-4df9-8757-772f84d67464",
   "metadata": {},
   "outputs": [],
   "source": [
    "df.groupby('GENDER')['PPERSABS10'].mean()\n"
   ]
  },
  {
   "cell_type": "markdown",
   "id": "ac40798b-4827-4323-bf44-f62945324e51",
   "metadata": {},
   "source": [
    "#### 3) Are there differences in Ofsted ratings based on religious charter?"
   ]
  },
  {
   "cell_type": "code",
   "execution_count": null,
   "id": "9334825f-31ce-4053-9122-6da217a38a56",
   "metadata": {},
   "outputs": [],
   "source": [
    "categorical_plot_filtered('RELCHAR', df)\n"
   ]
  },
  {
   "cell_type": "markdown",
   "id": "b2611bd1-64fa-456b-9023-2f1c996c7ca9",
   "metadata": {},
   "source": [
    "Multiple conclusions can be made from here.\n",
    "Muslim community schools perform substantially better in Ofsted ratings than non-religious chartered schools.\n",
    "The Church of England makes a large proportion of schools that require improvement"
   ]
  },
  {
   "cell_type": "markdown",
   "id": "2bbb49be-e4ac-4fa6-ae53-7c09511d18bf",
   "metadata": {
    "tags": []
   },
   "source": [
    "#### 4) What is the average % of absense for schools that require improvement by Ofsted?"
   ]
  },
  {
   "cell_type": "code",
   "execution_count": null,
   "id": "064de488-8da9-4d43-a566-9f7e9839be92",
   "metadata": {},
   "outputs": [],
   "source": [
    "df_clean1.PERCTOT.mean()\n"
   ]
  },
  {
   "cell_type": "markdown",
   "id": "843d4e10-dc9c-421a-ba8c-c10103302560",
   "metadata": {},
   "source": [
    "The average percentage of overall absense in schools within the UK for 2022-23 was 6.78%.\n",
    "\n",
    "The average absence for schools requiring improvement on average are once their >8%."
   ]
  },
  {
   "cell_type": "code",
   "execution_count": null,
   "id": "c4c1acf8-2494-4a2f-8dad-7cd16feb1d26",
   "metadata": {},
   "outputs": [],
   "source": [
    "df.groupby('OFSTEDRATING')['PERCTOT'].mean()\n"
   ]
  },
  {
   "cell_type": "code",
   "execution_count": null,
   "id": "f213fadf-a24e-4048-a62b-0778d8aa2b74",
   "metadata": {},
   "outputs": [],
   "source": [
    "# Plotting using seaborn\n",
    "plt.figure(figsize=(10, 6))\n",
    "sns.stripplot(x='ADMPOL', y='PERCTOT',\n",
    "              hue='SCHOOLTYPE', data=df, jitter=True, dodge=True, linewidth=1)\n",
    "plt.title('Percentage of Absences by Ofsted Rating')\n",
    "plt.xlabel('Ofsted Rating')\n",
    "plt.ylabel('Percentage of Absences')\n",
    "plt.legend(title='School Type')\n",
    "plt.show()\n"
   ]
  },
  {
   "cell_type": "markdown",
   "id": "f6468903-10d7-4ac4-88f1-5a311de8c38e",
   "metadata": {},
   "source": [
    "Taking into account absense can help in concluding that this factor has a large influence on the feedback that Ofsted gives.\n",
    "From the graph above non-selective schools have much higher absenses than selective schools which may indicate the differences in final Ofsted reports recieved back. "
   ]
  },
  {
   "cell_type": "markdown",
   "id": "30835f07-4036-4f9d-86f8-d362d3266f2c",
   "metadata": {},
   "source": [
    "## Section 6: Conclusions"
   ]
  },
  {
   "cell_type": "markdown",
   "id": "f73c3532-e6d4-4b3f-916f-56a00d7138c6",
   "metadata": {},
   "source": [
    "My motivation to carry out this research was to understand if Ofsted inspections in the UK are influenced by intrinsic school characteristics as opposed to the actual observed quality of teaching.\n",
    "\n",
    "Through a comprehensive analysis of Ofsted inspection reports, school demographic data, and educational outcomes, this study was able to determine whether factors such as school type, socio-economic status, and historical performance play a deterministic role in Ofsted ratings. The findings aim to contribute to the ongoing debate on the fairness and effectiveness of educational evaluations and provide recommendations for policy improvements.\n",
    "\n",
    "The machine learning model itself was weak in confirming these characteristics determined the Ofsted rating. \n",
    "\n",
    "It also suggests the invaluablity of Ofsted reports. It does not mirror standard indicators nor can it replace league tables. Instead, they offer a valuable assessment of the quality of education provided. Schools have significant agency in influencing their ratings through high-quality teaching and effective management. These findings underscore the importance of continuous improvement in educational practices and reaffirm the credibility of Ofsted as a measure of school performance.\n"
   ]
  }
 ],
 "metadata": {
  "kernelspec": {
   "display_name": "python312",
   "language": "python",
   "name": "python312"
  },
  "language_info": {
   "codemirror_mode": {
    "name": "ipython",
    "version": 3
   },
   "file_extension": ".py",
   "mimetype": "text/x-python",
   "name": "python",
   "nbconvert_exporter": "python",
   "pygments_lexer": "ipython3",
   "version": "3.12.3"
  }
 },
 "nbformat": 4,
 "nbformat_minor": 5
}
