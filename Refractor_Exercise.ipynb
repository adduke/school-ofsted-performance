{
 "cells": [
  {
   "cell_type": "markdown",
   "id": "89f72afd-e51d-42a3-9690-de649034f869",
   "metadata": {},
   "source": [
    "Sure! Here are some coding exercises for you to practice using numpy, .loc methods, str.replace methods, and vectorized operations. These exercises start with iterative, non-vectorized operations and involve less efficient data structures for you to refactor.\n",
    "\n",
    "Exercise 1: Using numpy\n",
    "Task: Calculate the square of each element in a list of integers\n",
    "Initial code (non-vectorized):"
   ]
  },
  {
   "cell_type": "code",
   "execution_count": 1,
   "id": "0c3b2285-4efa-46c8-8815-7474025bc92a",
   "metadata": {},
   "outputs": [
    {
     "name": "stdout",
     "output_type": "stream",
     "text": [
      "[1, 4, 9, 16, 25]\n"
     ]
    }
   ],
   "source": [
    "import numpy as np\n",
    "\n",
    "numbers = [1, 2, 3, 4, 5]\n",
    "squares = []\n",
    "for number in numbers:\n",
    "    squares.append(number ** 2)\n",
    "\n",
    "print(squares)\n"
   ]
  },
  {
   "cell_type": "code",
   "execution_count": 2,
   "id": "017eabd8-d396-4fa2-abc6-f0f6db43ce9f",
   "metadata": {},
   "outputs": [
    {
     "name": "stdout",
     "output_type": "stream",
     "text": [
      "[ 1  4  9 16 25]\n"
     ]
    }
   ],
   "source": [
    "numbers = np.array([1, 2, 3, 4, 5])\n",
    "squares = numbers**2\n",
    "\n",
    "print(squares)"
   ]
  },
  {
   "cell_type": "markdown",
   "id": "dc4c1a4a-a606-428b-a305-fc4d710e5c00",
   "metadata": {},
   "source": [
    "Exercise 2: Using pandas .loc method\n",
    "Task: Update the values in a specific column based on a condition\n",
    "Initial code (non-vectorized):"
   ]
  },
  {
   "cell_type": "code",
   "execution_count": 3,
   "id": "4cfac8fe-c9a0-4df8-a880-07baf158260c",
   "metadata": {},
   "outputs": [
    {
     "name": "stdout",
     "output_type": "stream",
     "text": [
      "      Name  Age\n",
      "0    Alice   25\n",
      "1      Bob   30\n",
      "2  Charlie   36\n",
      "3    David   41\n"
     ]
    }
   ],
   "source": [
    "import pandas as pd\n",
    "\n",
    "data = {'Name': ['Alice', 'Bob', 'Charlie', 'David'],\n",
    "        'Age': [25, 30, 35, 40]}\n",
    "df = pd.DataFrame(data)\n",
    "\n",
    "for i in range(len(df)):\n",
    "    if df.loc[i, 'Age'] > 30:\n",
    "        df.loc[i, 'Age'] += 1\n",
    "\n",
    "print(df)\n"
   ]
  },
  {
   "cell_type": "code",
   "execution_count": 7,
   "id": "e18d4437-7a79-4f1a-b51c-332af19d02d5",
   "metadata": {},
   "outputs": [
    {
     "name": "stdout",
     "output_type": "stream",
     "text": [
      "      Name  Age\n",
      "0    Alice   25\n",
      "1      Bob   30\n",
      "2  Charlie   36\n",
      "3    David   41\n"
     ]
    }
   ],
   "source": [
    "import pandas as pd\n",
    "\n",
    "data = {'Name': ['Alice', 'Bob', 'Charlie', 'David'],\n",
    "        'Age': [25, 30, 35, 40]}\n",
    "df = pd.DataFrame(data)\n",
    "\n",
    "df['Age'] = df['Age'].apply(lambda x: x + 1 if x>30 else x)\n",
    "\n",
    "print(df)"
   ]
  },
  {
   "cell_type": "markdown",
   "id": "63455048-edae-45db-91a8-08f9aa458203",
   "metadata": {},
   "source": [
    "Exercise 3: Using str.replace method\n",
    "Task: Replace a specific substring in a list of strings\n",
    "Initial code (non-vectorized):"
   ]
  },
  {
   "cell_type": "code",
   "execution_count": 8,
   "id": "a3b97627-7b81-4388-9f27-c4f7f330c866",
   "metadata": {},
   "outputs": [
    {
     "name": "stdout",
     "output_type": "stream",
     "text": [
      "['apple cake', 'banana cake', 'cherry cake']\n"
     ]
    }
   ],
   "source": [
    "strings = [\"apple pie\", \"banana pie\", \"cherry pie\"]\n",
    "new_strings = []\n",
    "for s in strings:\n",
    "    new_strings.append(s.replace(\"pie\", \"cake\"))\n",
    "\n",
    "print(new_strings)\n"
   ]
  },
  {
   "cell_type": "code",
   "execution_count": 11,
   "id": "4e820dee-8320-422a-bcd6-9052fc6cf877",
   "metadata": {},
   "outputs": [
    {
     "name": "stdout",
     "output_type": "stream",
     "text": [
      "0     apple cake\n",
      "1    banana cake\n",
      "2    cherry cake\n",
      "dtype: object\n"
     ]
    }
   ],
   "source": [
    "strings = pd.Series([\"apple pie\", \"banana pie\", \"cherry pie\"])\n",
    "\n",
    "new_strings = strings.str.replace(\"pie\", \"cake\")\n",
    "\n",
    "print(new_strings)"
   ]
  },
  {
   "cell_type": "markdown",
   "id": "0c5e6cb9-83f4-4374-9673-372670b3349b",
   "metadata": {},
   "source": [
    "Exercise 4: Using vector methods\n",
    "Task: Add two vectors element-wise\n",
    "Initial code (non-vectorized):"
   ]
  },
  {
   "cell_type": "code",
   "execution_count": 12,
   "id": "e6718274-2268-429b-9381-a531b785e8e5",
   "metadata": {},
   "outputs": [
    {
     "name": "stdout",
     "output_type": "stream",
     "text": [
      "[7, 9, 11, 13, 15]\n"
     ]
    }
   ],
   "source": [
    "vector1 = [1, 2, 3, 4, 5]\n",
    "vector2 = [6, 7, 8, 9, 10]\n",
    "result = []\n",
    "for i in range(len(vector1)):\n",
    "    result.append(vector1[i] + vector2[i])\n",
    "\n",
    "print(result)\n"
   ]
  },
  {
   "cell_type": "code",
   "execution_count": 13,
   "id": "395cdf3b-13f1-4079-81d8-7b0c9e397a01",
   "metadata": {},
   "outputs": [
    {
     "name": "stdout",
     "output_type": "stream",
     "text": [
      "[ 7  9 11 13 15]\n"
     ]
    }
   ],
   "source": [
    "vector1 = np.array([1, 2, 3, 4, 5])\n",
    "vector2 = np.array([6, 7, 8, 9, 10])\n",
    "\n",
    "result = np.add(vector1, vector2)\n",
    "\n",
    "print(result)"
   ]
  },
  {
   "cell_type": "markdown",
   "id": "b928d449-3355-4b1d-a84d-ec3d3470b133",
   "metadata": {},
   "source": [
    "Exercise 5: Using pandas and numpy\n",
    "Task: Normalize the values in a column of a DataFrame\n",
    "Initial code (non-vectorized):"
   ]
  },
  {
   "cell_type": "code",
   "execution_count": 14,
   "id": "f8d25ba1-7788-4b49-a855-0024f148ac2e",
   "metadata": {},
   "outputs": [
    {
     "name": "stdout",
     "output_type": "stream",
     "text": [
      "   Value  Normalized\n",
      "0     10   -1.414214\n",
      "1     20   -0.707107\n",
      "2     30    0.000000\n",
      "3     40    0.707107\n",
      "4     50    1.414214\n"
     ]
    }
   ],
   "source": [
    "import pandas as pd\n",
    "import numpy as np\n",
    "\n",
    "data = {'Value': [10, 20, 30, 40, 50]}\n",
    "df = pd.DataFrame(data)\n",
    "\n",
    "mean_value = np.mean(df['Value'])\n",
    "std_value = np.std(df['Value'])\n",
    "\n",
    "normalized_values = []\n",
    "for value in df['Value']:\n",
    "    normalized_values.append((value - mean_value) / std_value)\n",
    "\n",
    "df['Normalized'] = normalized_values\n",
    "print(df)"
   ]
  },
  {
   "cell_type": "code",
   "execution_count": 57,
   "id": "dfb815c5-0bea-4a1c-b53a-4fe6d44fc347",
   "metadata": {},
   "outputs": [
    {
     "name": "stdout",
     "output_type": "stream",
     "text": [
      "   Value  Normalized\n",
      "0     10   -1.264911\n",
      "1     20   -0.632456\n",
      "2     30    0.000000\n",
      "3     40    0.632456\n",
      "4     50    1.264911\n"
     ]
    }
   ],
   "source": [
    "import pandas as pd\n",
    "import numpy as np\n",
    "\n",
    "df = pd.DataFrame({'Value': [10, 20, 30, 40, 50]})\n",
    "\n",
    "# Calculate the mean and standard deviation using pandas or numpy\n",
    "mean_value = df['Value'].mean()  # or np.mean(df['Value'])\n",
    "std_value = df['Value'].std()    # or np.std(df['Value'])\n",
    "\n",
    "# Normalize the values using vectorized operations\n",
    "df['Normalized'] = (df['Value'] - mean_value) / std_value\n",
    "\n",
    "print(df)"
   ]
  },
  {
   "cell_type": "code",
   "execution_count": null,
   "id": "a24fb5f0-b094-461a-ac47-3bf7526c9552",
   "metadata": {},
   "outputs": [],
   "source": []
  }
 ],
 "metadata": {
  "kernelspec": {
   "display_name": "python312",
   "language": "python",
   "name": "python312"
  },
  "language_info": {
   "codemirror_mode": {
    "name": "ipython",
    "version": 3
   },
   "file_extension": ".py",
   "mimetype": "text/x-python",
   "name": "python",
   "nbconvert_exporter": "python",
   "pygments_lexer": "ipython3",
   "version": "3.12.3"
  }
 },
 "nbformat": 4,
 "nbformat_minor": 5
}
